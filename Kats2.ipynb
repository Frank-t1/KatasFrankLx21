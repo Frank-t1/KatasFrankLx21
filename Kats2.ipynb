{
 "cells": [
  {
   "cell_type": "markdown",
   "metadata": {},
   "source": [
    "![title](https://github.com/Frank-t1/KatasFrankLx21/blob/main/ScreenshotKata2.png)\n")
   ]
  }
 ],
 "metadata": {
  "language_info": {
   "name": "python"
  },
  "orig_nbformat": 4
 },
 "nbformat": 4,
 "nbformat_minor": 2
}
