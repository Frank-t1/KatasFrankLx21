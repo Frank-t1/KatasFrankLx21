{
 "cells": [
  {
   "cell_type": "markdown",
   "metadata": {},
   "source": [
    "# KaTA 10"
   ]
  },
  {
   "cell_type": "markdown",
   "metadata": {},
   "source": [
    "Este es el resultado de la linea de comandos ejecutada\n",
    "\n",
    "![image1](Screenshot1Kata10.png)\n",
    "\n",
    "![image2](Screenshot2Kata10.png)\n",
    "\n",
    "![image3](Screenshot3Kata10.png)\n",
    "\n",
    "![image4](Screenshot4Kata10.png)\n",
    "\n",
    "![image5](Screenshot5Kata10.png)\n",
    "\n",
    "![image6](Screenshot6Kata10.png)\n",
    "\n",
    "![image7](Screenshot7Kata10.png)\n",
    "\n",
    "![image8](Screenshot8Kata10.png)\n",
    "\n",
    "![image9](Screenshot9Kata10.png)\n",
    "\n",
    "![image10](Screenshot10Kata10.png)\n",
    "\n",
    "![image11](Screenshot11Kata10.png)\n",
    "\n"
   ]
  },
  {
   "cell_type": "markdown",
   "metadata": {},
   "source": [
    "\n",
    "\n",
    "\n",
    "\n",
    "\n",
    "\n",
    "\n",
    "\n",
    "Resolucion a los procesos Katas del Curso Propedútico de Python durante Launch X de Innovacción Virtual.\n",
    "\n",
    "Modulo 10\n",
    "\n",
    "Se trabajo con material desarrollado con base en los contenidos de MSLearn y la metáfora de LaunchX según traducción e implementación de Fernanda Ochoa - Learning Producer de LaunchX.\n",
    "\n",
    "Modifficado por [Francisco G](https://github.com/Frank-t1 \"Frank-t1\") en Github"
   ]
  }
 ],
 "metadata": {
  "interpreter": {
   "hash": "916dbcbb3f70747c44a77c7bcd40155683ae19c65e1c03b4aa3499c5328201f1"
  },
  "kernelspec": {
   "display_name": "Python 3.8.10 64-bit",
   "language": "python",
   "name": "python3"
  },
  "language_info": {
   "codemirror_mode": {
    "name": "ipython",
    "version": 3
   },
   "file_extension": ".py",
   "mimetype": "text/x-python",
   "name": "python",
   "nbconvert_exporter": "python",
   "pygments_lexer": "ipython3",
   "version": "3.8.10"
  },
  "orig_nbformat": 4
 },
 "nbformat": 4,
 "nbformat_minor": 2
}
