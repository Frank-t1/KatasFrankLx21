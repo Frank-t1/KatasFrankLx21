{
 "cells": [
  {
   "cell_type": "markdown",
   "metadata": {},
   "source": [
    "# Ejercicio - Crear un paquete\n",
    "\n",
    "\n",
    "## Crear un entorno virtual"
   ]
  },
  {
   "cell_type": "code",
   "execution_count": 3,
   "metadata": {},
   "outputs": [],
   "source": [
    "!python3 -m venv env"
   ]
  },
  {
   "cell_type": "markdown",
   "metadata": {},
   "source": [
    "Encontre que los comandos con un signo de exclamacion al inicion se ejecutan en el terminal y afectan al sistema.\n",
    "\n",
    "Posteriormente se probaron los comandos para ejecutarlso desde el notebook, pero no funcionaron en el ambiente de trabajo. POr lo tanto se ejecutaron en una terminal fuera de VS."
   ]
  },
  {
   "cell_type": "code",
   "execution_count": 4,
   "metadata": {},
   "outputs": [],
   "source": [
    "#lista directorio de trabajo\n",
    "#!pwd\n",
    "# activa ambiente de trabajo aislado python\n",
    "!source env/bin/activate\n",
    "#Lista librerias instaladas\n",
    "#!pip freeze\n",
    "#Instala libreria de manejo de fechas\n",
    "#!pip install python-dateutil\n",
    "#desactiva ambiente de trabajo\n",
    "#!deactivate"
   ]
  },
  {
   "cell_type": "markdown",
   "metadata": {},
   "source": [
    "Este es el resultado de la linea de comandos ejecutada\n",
    "(Empleamos dos formas de insertar imagenes en celdas MArkdown de Jupyter Notebooks)\n",
    "\n",
    "\n",
    "```\n",
    "![title](ScreenshotKata2.png)\n",
    "```\n",
    "\n",
    "![title](ScreenshotKata2.png)\n",
    "***\n",
    "```\n",
    "<img src=\"ScreenshotKata2.png\">\n",
    "```\n",
    "<img src=\"ScreenshotKata2.png\">\n"
   ]
  },
  {
   "cell_type": "markdown",
   "metadata": {},
   "source": [
    "\n",
    "\n",
    "\n",
    "\n",
    "\n",
    "\n",
    "\n",
    "\n",
    "Resolucion a los procesos Katas del Curso Propedútico de Python durante Launch X de Innovacción Virtual.\n",
    "\n",
    "Modulo 2\n",
    "\n",
    "Se trabajo con material desarrollado con base en los contenidos de MSLearn y la metáfora de LaunchX según traducción e implementación de Fernanda Ochoa - Learning Producer de LaunchX.\n",
    "\n",
    "Modifficado por [Francisco G](https://github.com/Frank-t1 \"Frank-t1\") en Github"
   ]
  }
 ],
 "metadata": {
  "interpreter": {
   "hash": "916dbcbb3f70747c44a77c7bcd40155683ae19c65e1c03b4aa3499c5328201f1"
  },
  "kernelspec": {
   "display_name": "Python 3.8.10 64-bit",
   "language": "python",
   "name": "python3"
  },
  "language_info": {
   "codemirror_mode": {
    "name": "ipython",
    "version": 3
   },
   "file_extension": ".py",
   "mimetype": "text/x-python",
   "name": "python",
   "nbconvert_exporter": "python",
   "pygments_lexer": "ipython3",
   "version": "3.8.10"
  },
  "orig_nbformat": 4
 },
 "nbformat": 4,
 "nbformat_minor": 2
}
