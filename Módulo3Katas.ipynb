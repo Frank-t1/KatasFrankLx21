{
  "cells": [
    {
      "cell_type": "markdown",
      "metadata": {},
      "source": [
        "# Mis ejercicios de los asteroides\n",
        "\n",
        "## Ejercicio 1. Con asteroides veloces.\n",
        "\n",
        "Imprima una advertencia si un asteroide se acerca a la Tierra demasiado rápido. La velocidad del asteroide varía dependiendo de lo cerca que esté del sol, y cualquier velocidad superior a 25 kilómetros por segundo (km/s) merece una advertencia.\n",
        "\n",
        "Un asteroide se acerca, y viaja a una velocidad de 49 km/s."
      ]
    },
    {
      "cell_type": "code",
      "execution_count": 14,
      "metadata": {},
      "outputs": [
        {
          "name": "stdout",
          "output_type": "stream",
          "text": [
            "ALERTA: Un asteroide se acerca a la Tierra demasiado rápido, su velocidad es: 49  km/s\n"
          ]
        }
      ],
      "source": [
        "# Añadir el código necesario para crear una variable que guarde la velocidad del asteroide.\n",
        "# Escribe una expresión de prueba para calcular si necesita una advertencia.\n",
        "# Agregue las instrucciones que se ejecutarán si la expresión de prueba es true o false.\n",
        "\n",
        "velocidad = 49\n",
        "Advertencia = \"ALERTA: Un asteroide se acerca a la Tierra demasiado rápido, su velocidad es: \"\n",
        "if velocidad > 25:\n",
        "    print(Advertencia +  str(velocidad),\" km/s\")\n",
        "\n"
      ]
    },
    {
      "cell_type": "markdown",
      "metadata": {},
      "source": [
        "## Ejercicio 2. Con otro asteroide mas lento\n",
        "\n",
        "Si un asteroide entra en la atmósfera de la Tierra a una velocidad mayor o igual a 20 km/s, a veces produce un rayo de luz que se puede ver desde la Tierra.  Alerta a las personas de todo el mundo que deben buscar un asteroide en el cielo. ¡Hay uno que se dirige a la tierra ahora a una velocidad de 19 km/s!"
      ]
    },
    {
      "cell_type": "code",
      "execution_count": 20,
      "metadata": {},
      "outputs": [
        {
          "name": "stdout",
          "output_type": "stream",
          "text": [
            "ALERTA: Busca un rayo de luz en el cielo. Es un asteroide y su velocidad es: 21 km/s\n"
          ]
        }
      ],
      "source": [
        "# Agrega el código para crear una variable para un asteroide que viaja a 19 km/s\n",
        "# Escribe varias expresiones de prueba para determinar si puedes ver el rayo de luz desde la tierra\n",
        "# Agrega las instrucciones que se ejecutarán si las expresiones de prueba son True o False\n",
        "\n",
        "velocidad = 21\n",
        "\n",
        "if velocidad >= 20: # Si velocidad es mayor igual a 20 km/s, no genera un rayo de luz.\n",
        "    print (\"ALERTA: Busca un rayo de luz en el cielo. Es un asteroide y su velocidad es: \"+  str(velocidad)+\" km/s\")\n",
        "else:  #velocidad <20: #Si la velocidad es menor a 20 km/s no genera un rayo de luz.\n",
        "    print (\"ALERTA: Un asteroide se acerca a la Tierra, no lo vez porque su velocidad es abajo de 20 km/s, Su velocidad es : \"+  str(velocidad) +\" km/s\" )\n",
        "#else:\n",
        "#    print (\"Todo esta bien, vive tu vida\")"
      ]
    },
    {
      "cell_type": "markdown",
      "metadata": {},
      "source": [
        "# Ejercicio 3. Cuándo los asteroides representan un peligro para la Tierra.\n",
        "\n",
        "Vamos a mejorar nuestro sistema de advertencia.\n",
        "\n",
        "* Los asteroides menores a 25 metros probablemente se quemarán al entrar en la atmósfera terrestre.\n",
        "* Un asteroide mayor de 25 mts, pero menor a 1000 mts golpearia la Tierra y causaría daño.\n",
        "\n",
        "Del ejercicio anterior tenemos que:\n",
        "\n",
        "* La velocidad del asteroide varía en función de lo cerca que esté del sol, y cualquier velocidad superior a 25 kilómetros por segundo (km/s) merece una advertencia.\n",
        "* Si un asteroide entra en la atmósfera de la Tierra a una velocidad mayor o igual a 20 km/s, a veces produce un rayo de luz que puede verse desde la Tierra.\n"
      ]
    },
    {
      "cell_type": "code",
      "execution_count": 32,
      "metadata": {},
      "outputs": [
        {
          "name": "stdout",
          "output_type": "stream",
          "text": [
            "ALERTA: Un asteroide se acerca a la Tierra demasiado rápido, su velocidad es: 50  km/s\n",
            "        Asteroide menor a 25 mts se acerca a la tierra, seguramente se comsumiran al entrar en la atmosfera. Su tamaño es:  0\n"
          ]
        }
      ],
      "source": [
        "# Agrega el código para crear nuevas variables para la velocidad y el tamaño del asteroide\n",
        "# Para probar el código, prueba con varias velocidades y tamaños\n",
        "# Escribe varias expresiones de prueba o combinaciones de expresiones de prueba para determinar qué mensaje se debe enviar a Tierra.\n",
        "\n",
        "velocidad = 50\n",
        "tamano = 0\n",
        "\n",
        "Advertencia = \"ALERTA: Un asteroide se acerca a la Tierra demasiado rápido, su velocidad es: \"\n",
        "if velocidad > 25 :\n",
        "    print(Advertencia +  str(velocidad),\" km/s\")\n",
        "    \n",
        "elif velocidad >= 20: # Si velocidad es mayor igual a 20 km/s, no genera un rayo de luz.\n",
        "    print (\"ALERTA: Busca un rayo de luz en el cielo. Es un asteroide y su velocidad es: \"+  str(velocidad)+\" km/s\")\n",
        "else:  #velocidad <20: #Si la velocidad es menor a 20 km/s no genera un rayo de luz.\n",
        "    print (\"ALERTA: Un asteroide se acerca a la Tierra, no lo vez porque su velocidad es de menos de 20 km/s, Su velocidad es : \"+  str(velocidad) +\" km/s\" )\n",
        "if tamano>=25 and tamano < 1000:\n",
        "    print( \"        Es una mega asteroide, Vayase a volar\")\n",
        "elif tamano > 1000:\n",
        "    print (\"        Asteroide masivo mayor a 1 Km se acerca a la tierra, esto ya valio. Su tamaño es: \", tamano, \" mts\" )\n",
        "elif tamano < 25:\n",
        "    print (\"        Asteroide menor a 25 mts se acerca a la tierra, seguramente se comsumiran al entrar en la atmosfera. Su tamaño es: \", tamano)\n",
        "else: \n",
        "    print (\"todo en orden\")"
      ]
    },
    {
      "cell_type": "markdown",
      "metadata": {},
      "source": [
        "## Soluciones de Fernanda Ochoa como Learning Producer de LaunchX"
      ]
    },
    {
      "cell_type": "markdown",
      "metadata": {},
      "source": [
        "#### Problema No. 1"
      ]
    },
    {
      "cell_type": "code",
      "execution_count": null,
      "metadata": {},
      "outputs": [],
      "source": [
        "# Añadir el código necesario para crear una variable que guarde la velocidad del asteroide.\n",
        "# Escribe una expresión de prueba para calcular si necesita una advertencia.\n",
        "# Agregue las instrucciones que se ejecutarán si la expresión de prueba es true o false.\n",
        "\n",
        "asteroide = 49\n",
        "if asteroide > 25:\n",
        "    print('¡Alerta! ¡Un asteroide se acerca a velocidades peligrosas!')\n",
        "else:\n",
        "    print('¡Sigue con tu día!')"
      ]
    },
    {
      "cell_type": "markdown",
      "metadata": {},
      "source": [
        "#### Problema No. 2"
      ]
    },
    {
      "cell_type": "code",
      "execution_count": null,
      "metadata": {},
      "outputs": [],
      "source": [
        "# Agrega el código para crear una variable para un asteroide que viaja a 19 km/s\n",
        "# Escribe varias expresiones de prueba para determinar si puedes ver el rayo de luz desde la tierra\n",
        "# Agrega las instrucciones que se ejecutarán si las expresiones de prueba son True o False\n",
        "\n",
        "asteroide = 19\n",
        "if asteroide > 20:\n",
        "    print('Look up! ¡Hay una luz mágica en el cielo!')\n",
        "elif asteroide == 20:\n",
        "    print('Look up! ¡Hay una luz mágica en el cielo!')\n",
        "else:\n",
        "    print('¡Nada que ver aquí!')"
      ]
    },
    {
      "cell_type": "markdown",
      "metadata": {},
      "source": [
        "#### Problema No. 3"
      ]
    },
    {
      "cell_type": "code",
      "execution_count": null,
      "metadata": {},
      "outputs": [],
      "source": [
        "# Agrega el código para crear nuevas variables para la velocidad y el tamaño del asteroide\n",
        "# Para probar el código, prueba con varias velocidades y tamaños\n",
        "# Escribe varias expresiones de prueba o combinaciones de expresiones de prueba para determinar qué mensaje se debe enviar a Tierra.\n",
        "\n",
        "velocidad_asteroide = 25\n",
        "tamano_asteroide = 40\n",
        "if velocidad_asteroide > 25 and tamano_asteroide > 25:\n",
        "    print('¡Alerta, Un asteroide muy peligroso viene hacia la Tierra!')\n",
        "elif velocidad_asteroide >= 20:\n",
        "    print('Look up! ¡Hay una luz mágica en el cielo!')\n",
        "elif tamano_asteroide < 25:\n",
        "    print('Nada que ver aquí :)')\n",
        "else:\n",
        "    print('Nada que ver aquí :)')"
      ]
    },
    {
      "cell_type": "markdown",
      "metadata": {},
      "source": [
        "\n",
        "\n",
        "\n",
        "\n",
        "\n",
        "\n",
        "\n",
        "\n",
        "Resolucion a los procesos Katas del Curso Propedútico de Python durante Launch X de Innovacción Virtual.\n",
        "\n",
        "Modulo 3\n",
        "\n",
        "Se trabajo con material desarrollado con base en los contenidos de MSLearn y la metáfora de LaunchX según traducción e implementación de Fernanda Ochoa - Learning Producer de LaunchX.\n",
        "\n",
        "Modifficado por [Francisco G](https://github.com/Frank-t1 \"Frank-t1\") en Github"
      ]
    }
  ],
  "metadata": {
    "interpreter": {
      "hash": "916dbcbb3f70747c44a77c7bcd40155683ae19c65e1c03b4aa3499c5328201f1"
    },
    "kernel_info": {
      "name": "conda-env-py37_default-py"
    },
    "kernelspec": {
      "display_name": "py37_default",
      "language": "python",
      "name": "python3"
    },
    "language_info": {
      "codemirror_mode": {
        "name": "ipython",
        "version": 3
      },
      "file_extension": ".py",
      "mimetype": "text/x-python",
      "name": "python",
      "nbconvert_exporter": "python",
      "pygments_lexer": "ipython3",
      "version": "3.8.10"
    },
    "nteract": {
      "version": "nteract-front-end@1.0.0"
    },
    "orig_nbformat": 4
  },
  "nbformat": 4,
  "nbformat_minor": 2
}
