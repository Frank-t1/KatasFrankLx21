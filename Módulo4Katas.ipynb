{
  "cells": [
    {
      "cell_type": "markdown",
      "metadata": {},
      "source": [
        "# Mi ejercicio 1: Transformación de cadenas\n",
        "\n",
        "Trabajamos con las siguiente variable de texto, ***text***: "
      ]
    },
    {
      "cell_type": "code",
      "execution_count": 2,
      "metadata": {},
      "outputs": [],
      "source": [
        "text = \"\"\"Interesting facts about the Moon. The Moon is Earth's only satellite. There are several interesting facts about the Moon and how it affects life here on Earth. \n",
        "On average, the Moon moves 4cm away from the Earth every year. This yearly drift is not significant enough to cause immediate effects on Earth. The highest daylight temperature of the Moon is 127 C.\"\"\""
      ]
    },
    {
      "cell_type": "markdown",
      "metadata": {},
      "source": [
        "Divide el texto en cada oración para trabajar con su contenido y formamos una lista de strings:"
      ]
    },
    {
      "cell_type": "code",
      "execution_count": 3,
      "metadata": {},
      "outputs": [
        {
          "data": {
            "text/plain": [
              "['Interesting facts about the Moon',\n",
              " \" The Moon is Earth's only satellite\",\n",
              " ' There are several interesting facts about the Moon and how it affects life here on Earth',\n",
              " ' \\nOn average, the Moon moves 4cm away from the Earth every year',\n",
              " ' This yearly drift is not significant enough to cause immediate effects on Earth',\n",
              " ' The highest daylight temperature of the Moon is 127 C',\n",
              " '']"
            ]
          },
          "execution_count": 3,
          "metadata": {},
          "output_type": "execute_result"
        }
      ],
      "source": [
        "# Añade el código necesario\n",
        "#text.split()\n",
        "\n",
        "#text.split('\\n')\n",
        "\n",
        "texto=text.split('.')\n",
        "texto"
      ]
    },
    {
      "cell_type": "markdown",
      "metadata": {},
      "source": [
        "Definimos las palabras clave de la búsqueda para determinar si una oración contiene un hecho."
      ]
    },
    {
      "cell_type": "code",
      "execution_count": 4,
      "metadata": {},
      "outputs": [
        {
          "name": "stdout",
          "output_type": "stream",
          "text": [
            "posicion de palabra 'average':  164\n",
            "posicion de palabra 'temperature':  326\n",
            "posicion de palabra 'distance':  -1\n",
            "Lista:  ['average', 'temperature', 'distance']\n"
          ]
        }
      ],
      "source": [
        "# Define las palabras pista: average, temperature y distance suenan bien\n",
        "print(\"posicion de palabra 'average': \",text.find('average'))\n",
        "print(\"posicion de palabra 'temperature': \",text.find('temperature'))\n",
        "print(\"posicion de palabra 'distance': \",text.find('distance'))\n",
        "\n",
        "lista= ['average','temperature','distance']\n",
        "print(\"Lista: \", lista)\n"
      ]
    },
    {
      "cell_type": "markdown",
      "metadata": {},
      "source": [
        "Creamos un ciclo for  para imprimir solo datos sobre la Luna que estén relacionados con las palabras clave anteriormente definidas:"
      ]
    },
    {
      "cell_type": "code",
      "execution_count": 5,
      "metadata": {},
      "outputs": [
        {
          "name": "stdout",
          "output_type": "stream",
          "text": [
            " \n",
            "On average, the Moon moves 4cm away from the Earth every year\n",
            " The highest daylight temperature of the Moon is 127 C\n"
          ]
        }
      ],
      "source": [
        "# Ciclo for para recorrer la cadena\n",
        "#print(lista,'\\n',texto,'\\n')\n",
        "for t in texto:\n",
        "    for listitem in lista:\n",
        "        #if  -1!= text.find(listitem):\n",
        "        if listitem in t:\n",
        "            #print(listitem,\":\",text)\n",
        "            print(t)"
      ]
    },
    {
      "cell_type": "markdown",
      "metadata": {},
      "source": [
        "Actualiza el for para cambiar _C_ a _Celsius_:"
      ]
    },
    {
      "cell_type": "code",
      "execution_count": 6,
      "metadata": {},
      "outputs": [
        {
          "name": "stdout",
          "output_type": "stream",
          "text": [
            "Imprime texto inicial (text) del tipo string:\n",
            "  Interesting facts about the Moon. The Moon is Earth's only satellite. There are several interesting facts about the Moon and how it affects life here on Earth. \n",
            "On average, the Moon moves 4cm away from the Earth every year. This yearly drift is not significant enough to cause immediate effects on Earth. The highest daylight temperature of the Moon is 127 C. \n",
            "\n",
            "Imprime texto inicial (texto) fue separada usando split y regresa una lista:\n",
            "  ['Interesting facts about the Moon', \" The Moon is Earth's only satellite\", ' There are several interesting facts about the Moon and how it affects life here on Earth', ' \\nOn average, the Moon moves 4cm away from the Earth every year', ' This yearly drift is not significant enough to cause immediate effects on Earth', ' The highest daylight temperature of the Moon is 127 C', ''] \n",
            "\n",
            "Imprime texto inicial (text0) es copia de la text original:\n",
            "  Interesting facts about the Moon. The Moon is Earth's only satellite. There are several interesting facts about the Moon and how it affects life here on Earth. \n",
            "On average, the Moon moves 4cm away from the Earth every year. This yearly drift is not significant enough to cause immediate effects on Earth. The highest daylight temperature of the Moon is 127 C. \n",
            "\n",
            "TExto remplazado (text0) como es una string, empleado el metodo replace para strings funciona:  \n",
            " Interesting facts about the Moon. The Moon is Earth's only satellite. There are several interesting facts about the Moon and how it affects life here on Earth. \n",
            "On average, the Moon moves 4cm away from the Earth every year. This yearly drift is not significant enough to cause immediate effects on Earth. The highest daylight temperature of the Moon is 127 Celsius. \n",
            "\n",
            "Antes de cambiar el elemento de la lista: \n",
            "  The highest daylight temperature of the Moon is 127 C\n",
            "Despues de cambiar el elemento de la lista: \n",
            "  The highest daylight temperature of the Moon is 127 Celsius\n"
          ]
        }
      ],
      "source": [
        "# Ciclo para cambiar C a Celsius\n",
        "# Ver nuestros datos origen\n",
        "print (\"Imprime texto inicial (text) del tipo string:\\n \", text,'\\n')\n",
        "\n",
        "print (\"Imprime texto inicial (texto) fue separada usando split y regresa una lista:\\n \", texto,'\\n')\n",
        "\n",
        "a_cambiar ='C'\n",
        "por='Celsius'\n",
        "\n",
        "#Hacemos 2 variales para ver que tenemos de resultado\n",
        "#El primero copia de la string original text0\n",
        "text0=text\n",
        "\n",
        "print (\"Imprime texto inicial (text0) es copia de la text original:\\n \", text0,'\\n')\n",
        "\n",
        "#hacemos notar que text es tipo string y texto es tipo lista\n",
        "#  por lo tanto el metodo .replace solo funciona en la variable tipo string. \n",
        "# no podemos usarlo con una lista a menos que lo apliquemos a sus elemetos string de manera individual \n",
        "\n",
        "text0=text.replace(a_cambiar,por)\n",
        "print(\"TExto remplazado (text0) como es una string, empleado el metodo replace para strings funciona: \", '\\n' , text0,'\\n')\n",
        "\n",
        "#La segunda variable copia de la lista con los elementos en text1\n",
        "text1=texto\n",
        "\n",
        "#Si uso listas. Trabajo con la lista pero aplico el replace al elemento string de la lista\n",
        "# que actualmente estoy trabajando\n",
        "for t in text1:\n",
        "    if a_cambiar in t:\n",
        "        print(\"Antes de cambiar el elemento de la lista: \\n\", t)\n",
        "        t=t.replace(a_cambiar,por)\n",
        "        print(\"Despues de cambiar el elemento de la lista: \\n\", t)\n",
        "        \n",
        "#print(\"Como queda la lista completa despues de correr el código: \\n\", text1)    \n",
        "\n"
      ]
    },
    {
      "cell_type": "markdown",
      "metadata": {},
      "source": [
        "# Mi segundo ejercicio 2: Formateando Cadenas\n",
        "\n",
        "En un formato genérico.\n",
        "\n",
        "En lugar de reemplazar las variables en una cadena larga como parte de un párrafo, utiliza la información para presentarla en un formato tabular. El resultado debería verse así:\n",
        "\n",
        "```\n",
        "Gravity Facts about Ganymede\n",
        "-------------------------------------------------------------------------------\n",
        "Planet Name: Mars\n",
        "Gravity on Ganymede: 1.4300000000000002 m/s2\n",
        "```"
      ]
    },
    {
      "cell_type": "code",
      "execution_count": 7,
      "metadata": {},
      "outputs": [],
      "source": [
        "# Datos con los que vas a trabajar\n",
        "name = \"Moon\"\n",
        "gravity = 0.00162 # in kms\n",
        "planet = \"Earth\""
      ]
    },
    {
      "cell_type": "markdown",
      "metadata": {},
      "source": [
        "Primero, crea un título para el texto. Debido a que este texto trata sobre la gravedad en la Tierra y la Luna, úsalo para crear un título significativo. Utiliza las variables en lugar de escribir."
      ]
    },
    {
      "cell_type": "code",
      "execution_count": 8,
      "metadata": {},
      "outputs": [
        {
          "name": "stdout",
          "output_type": "stream",
          "text": [
            "Datos sobre la gravedad de Moon \n"
          ]
        }
      ],
      "source": [
        "# Creamos el título\n",
        "titulo=f\"Datos sobre la gravedad de {name} \"\n",
        "#Probamos la variable\n",
        "print(titulo)\n"
      ]
    },
    {
      "cell_type": "markdown",
      "metadata": {},
      "source": [
        "Creamos una plantilla de cadena multilínea para el resto de la información. En lugar kilómetros,  convertimos a metros multiplicando por 1,000."
      ]
    },
    {
      "cell_type": "code",
      "execution_count": 9,
      "metadata": {},
      "outputs": [
        {
          "name": "stdout",
          "output_type": "stream",
          "text": [
            "==================================================\n",
            "Nombre del planeta: Earth\n",
            "La Gravedad en Moon: 1.6199999999999999 m/s^2\n",
            "\n"
          ]
        }
      ],
      "source": [
        "# Creamos la plantilla\n",
        "#Una raya de iguales se hace con {'='*NUMEROdeveces que debe aparecer}\n",
        "datos = f\"\"\"{'='*50}\n",
        "Nombre del planeta: {planet}\n",
        "La Gravedad en {name}: {gravity * 1000} m/s^2\n",
        "\"\"\"\n",
        "#Probamos la variable\n",
        "print(datos)"
      ]
    },
    {
      "cell_type": "markdown",
      "metadata": {},
      "source": [
        "Unimos el resultado"
      ]
    },
    {
      "cell_type": "code",
      "execution_count": 10,
      "metadata": {},
      "outputs": [
        {
          "name": "stdout",
          "output_type": "stream",
          "text": [
            "Datos Sobre La Gravedad De Moon \n",
            "==================================================\n",
            "Nombre del planeta: Earth\n",
            "La Gravedad en Moon: 1.6199999999999999 m/s^2\n",
            "\n",
            "\n"
          ]
        }
      ],
      "source": [
        "# Unión de ambas cadenas\n",
        "plantilla= f\"\"\"{titulo.title()}\n",
        "{datos}\n",
        "\"\"\"\n",
        "print(plantilla)"
      ]
    },
    {
      "cell_type": "markdown",
      "metadata": {},
      "source": [
        "Ahora con una luna diferente para ver si la plantilla todavía funciona.\n",
        "\n",
        "Datos muestra: \n",
        "```\n",
        "planeta = 'Marte '\n",
        "gravedad  = 0.00143\n",
        "nombre = 'Ganímedes'\n",
        "```"
      ]
    },
    {
      "cell_type": "code",
      "execution_count": 11,
      "metadata": {},
      "outputs": [
        {
          "name": "stdout",
          "output_type": "stream",
          "text": [
            "Datos Sobre La Gravedad De Moon \n",
            "==================================================\n",
            "Nombre del planeta: Earth\n",
            "La Gravedad en Moon: 1.6199999999999999 m/s^2\n",
            "\n",
            "\n"
          ]
        }
      ],
      "source": [
        "# Comprueba la plantilla\n",
        "# print(nombre_plantilla)\n",
        "name = \"Ganimedes\"\n",
        "gravity = 0.00143 # in kms\n",
        "planet = \"Marte\"\n",
        "\n",
        "print(plantilla)"
      ]
    },
    {
      "cell_type": "markdown",
      "metadata": {},
      "source": [
        "\n",
        "La salida no muestra información sobre Marte. Todavía muestra información sobre la Luna. Esto sucede porque las cadenas f están ansiosas en su evaluación, por lo que las variables una vez asignadas no se pueden reasignar.(INTERESANTE ESTO no lo esperaba)\n",
        "\n",
        " Para evitar este problema, volvere a hacer la plantilla para utilizar .format():\n"
      ]
    },
    {
      "cell_type": "code",
      "execution_count": 14,
      "metadata": {},
      "outputs": [
        {
          "name": "stdout",
          "output_type": "stream",
          "text": [
            "\n",
            "Datos sobre la gravedad de Ganimedes :\n",
            "==================================================\n",
            "Nombre del planeta: Marte\n",
            "La Gravedad en Ganimedes: 0.00143 m/s^2\n",
            "\n"
          ]
        }
      ],
      "source": [
        "# Nueva plantilla\n",
        "plantilla2 = \"\"\"\n",
        "Datos sobre la gravedad de {name} :\n",
        "==================================================\n",
        "Nombre del planeta: {planet}\n",
        "La Gravedad en {name}: {gravity} m/s^2\n",
        "\"\"\"\n",
        "#Probamos la variable\n",
        "print(plantilla2.format(planet=planet, name=name, gravity=gravity))\n"
      ]
    },
    {
      "cell_type": "markdown",
      "metadata": {},
      "source": [
        "Debido a que .format() no permite expresiones, la gravedad en Ganímedes es incorrecta. Asegúrese de que la operación se realiza fuera de la plantilla de formato e imprima de nuevo para ver el resultado de trabajo."
      ]
    },
    {
      "cell_type": "code",
      "execution_count": 16,
      "metadata": {},
      "outputs": [
        {
          "name": "stdout",
          "output_type": "stream",
          "text": [
            "\n",
            "Datos sobre la gravedad de Ganimedes :\n",
            "==================================================\n",
            "Nombre del planeta: Marte\n",
            "La Gravedad en Ganimedes: 1.4300000000000002 m/s^2\n",
            "\n"
          ]
        }
      ],
      "source": [
        "# Pista: print(nueva_plantilla.format(variables))\n",
        "#El resultado no me sale por el momento sigo y \n",
        "# al final del las Katas reviso porque a Fernanda Ochoa le da el dato correcto.\n",
        "#El error estaba em que una template =f \"\"\" vs templatenueva=\"\"\" esta ultima no usa  {'='*50}\n",
        "\n",
        "print(plantilla2.format(planet=planet, name=name, gravity=gravity*1000))"
      ]
    },
    {
      "cell_type": "markdown",
      "metadata": {},
      "source": [
        "## Soluciones de Fernanda Ochoa Learning Producer en LaunchX"
      ]
    },
    {
      "cell_type": "markdown",
      "metadata": {},
      "source": [
        "## Ejercicio 1"
      ]
    },
    {
      "cell_type": "code",
      "execution_count": 38,
      "metadata": {},
      "outputs": [
        {
          "data": {
            "text/plain": [
              "['Interesting facts about the Moon',\n",
              " \"The Moon is Earth's only satellite\",\n",
              " 'There are several interesting facts about the Moon and how it affects life here on Earth',\n",
              " '\\nOn average, the Moon moves 4cm away from the Earth every year',\n",
              " 'This yearly drift is not significant enough to cause immediate effects on Earth',\n",
              " 'The highest daylight temperature of the Moon is 127 C.']"
            ]
          },
          "execution_count": 38,
          "metadata": {},
          "output_type": "execute_result"
        }
      ],
      "source": [
        "# Divide el texto\n",
        "text_parts = text.split('. ')\n",
        "text_parts"
      ]
    },
    {
      "cell_type": "code",
      "execution_count": 39,
      "metadata": {},
      "outputs": [],
      "source": [
        "# Palabras clave\n",
        "key_words = [\"average\", \"temperature\", \"distance\"]"
      ]
    },
    {
      "cell_type": "code",
      "execution_count": 40,
      "metadata": {},
      "outputs": [
        {
          "name": "stdout",
          "output_type": "stream",
          "text": [
            "\n",
            "On average, the Moon moves 4cm away from the Earth every year\n",
            "The highest daylight temperature of the Moon is 127 C.\n"
          ]
        }
      ],
      "source": [
        "# Ciclo for para recorrer la cadena\n",
        "for sentence in text_parts:\n",
        "    for key_word in key_words:\n",
        "        if key_word in sentence:\n",
        "            print(sentence)\n",
        "            break"
      ]
    },
    {
      "cell_type": "code",
      "execution_count": 41,
      "metadata": {},
      "outputs": [
        {
          "name": "stdout",
          "output_type": "stream",
          "text": [
            "\n",
            "On average, the Moon moves 4cm away from the Earth every year\n",
            "The highest daylight temperature of the Moon is 127  Celsius.\n"
          ]
        }
      ],
      "source": [
        "# Ciclo para cambiar C a Celsius\n",
        "for sentence in text_parts:\n",
        "    for key_word in key_words:\n",
        "        if key_word in sentence:\n",
        "            print(sentence.replace('C', ' Celsius'))\n",
        "            break"
      ]
    },
    {
      "cell_type": "markdown",
      "metadata": {},
      "source": [
        "## Ejercicio 2"
      ]
    },
    {
      "cell_type": "code",
      "execution_count": 42,
      "metadata": {},
      "outputs": [],
      "source": [
        "# Datos con los que vamos a trabajar\n",
        "\n",
        "planeta = 'Marte '\n",
        "gravedad  = 0.00143\n",
        "nombre = 'Ganímedes'"
      ]
    },
    {
      "cell_type": "code",
      "execution_count": 43,
      "metadata": {},
      "outputs": [],
      "source": [
        "# Creamos el título\n",
        "title = f'datos de gravedad sobre {nombre}'"
      ]
    },
    {
      "cell_type": "code",
      "execution_count": 44,
      "metadata": {},
      "outputs": [],
      "source": [
        "# Creamos la plantilla\n",
        "hechos = f\"\"\"{'-'*80} \n",
        "Nombre del planeta: {planeta} \n",
        "Gravedad en {nombre}: {gravedad * 1000} m/s2 \n",
        "\"\"\""
      ]
    },
    {
      "cell_type": "code",
      "execution_count": 45,
      "metadata": {},
      "outputs": [
        {
          "name": "stdout",
          "output_type": "stream",
          "text": [
            "-------------------------------------------------------------------------------- \n",
            "Nombre del planeta: Marte  \n",
            "Gravedad en Ganímedes: 1.4300000000000002 m/s2 \n",
            "\n"
          ]
        }
      ],
      "source": [
        "# Unión de ambas cadenas\n",
        "template = f\"\"\"{title.title()} \n",
        "{hechos} \n",
        "\"\"\" \n",
        "print(hechos)"
      ]
    },
    {
      "cell_type": "code",
      "execution_count": 46,
      "metadata": {},
      "outputs": [],
      "source": [
        "# Nuevos datos muestra\n",
        "planeta = 'Marte '\n",
        "gravedad  = 0.00143\n",
        "nombre = 'Ganímedes'"
      ]
    },
    {
      "cell_type": "code",
      "execution_count": 47,
      "metadata": {},
      "outputs": [
        {
          "name": "stdout",
          "output_type": "stream",
          "text": [
            "-------------------------------------------------------------------------------- \n",
            "Nombre del planeta: Marte  \n",
            "Gravedad en Ganímedes: 1.4300000000000002 m/s2 \n",
            "\n"
          ]
        }
      ],
      "source": [
        "# Comprobamos la plantilla\n",
        "print(hechos)"
      ]
    },
    {
      "cell_type": "code",
      "execution_count": 48,
      "metadata": {},
      "outputs": [
        {
          "name": "stdout",
          "output_type": "stream",
          "text": [
            "\n",
            "Datos de Gravedad sobre: Ganímedes\n",
            "-------------------------------------------------------------------------------\n",
            "Nombre del planeta: Marte \n",
            "Gravedad en Ganímedes: 0.00143 m/s2\n",
            "\n"
          ]
        }
      ],
      "source": [
        "new_template = \"\"\"\n",
        "Datos de Gravedad sobre: {nombre}\n",
        "-------------------------------------------------------------------------------\n",
        "Nombre del planeta: {planeta}\n",
        "Gravedad en {nombre}: {gravedad} m/s2\n",
        "\"\"\"\n",
        "print(new_template.format(nombre=nombre, planeta=planeta, gravedad=gravedad))"
      ]
    },
    {
      "cell_type": "code",
      "execution_count": 49,
      "metadata": {},
      "outputs": [
        {
          "name": "stdout",
          "output_type": "stream",
          "text": [
            "\n",
            "Datos de Gravedad sobre: Ganímedes\n",
            "-------------------------------------------------------------------------------\n",
            "Nombre del planeta: Marte \n",
            "Gravedad en Ganímedes: 1.4300000000000002 m/s2\n",
            "\n"
          ]
        }
      ],
      "source": [
        "# Pista: print(nueva_plantilla.format(variables))\n",
        "print(new_template.format(nombre=nombre, planeta=planeta, gravedad=gravedad*1000))"
      ]
    },
    {
      "cell_type": "markdown",
      "metadata": {},
      "source": [
        "\n",
        "\n",
        "\n",
        "\n",
        "\n",
        "\n",
        "\n",
        "\n",
        "Resolucion a los procesos Katas del Curso Propedútico de Python durante Launch X de Innovacción Virtual.\n",
        "\n",
        "Modulo 3\n",
        "\n",
        "Se trabajo con material desarrollado con base en los contenidos de MSLearn y la metáfora de LaunchX según traducción e implementación de Fernanda Ochoa - Learning Producer de LaunchX.\n",
        "\n",
        "Modifficado por [Francisco G](https://github.com/Frank-t1 \"Frank-t1\") en Github"
      ]
    }
  ],
  "metadata": {
    "interpreter": {
      "hash": "502cd6c3b6c9e666d195e1caff9d64ea12bf644e547a4c8fae84812082c54b6f"
    },
    "kernel_info": {
      "name": "conda-env-py37_default-py"
    },
    "kernelspec": {
      "display_name": "py37_default",
      "language": "python",
      "name": "python3"
    },
    "language_info": {
      "codemirror_mode": {
        "name": "ipython",
        "version": 3
      },
      "file_extension": ".py",
      "mimetype": "text/x-python",
      "name": "python",
      "nbconvert_exporter": "python",
      "pygments_lexer": "ipython3",
      "version": "3.8.10"
    },
    "nteract": {
      "version": "nteract-front-end@1.0.0"
    },
    "orig_nbformat": 4
  },
  "nbformat": 4,
  "nbformat_minor": 2
}
